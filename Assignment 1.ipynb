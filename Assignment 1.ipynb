{
 "cells": [
  {
   "cell_type": "code",
   "execution_count": 1,
   "id": "f6b0e4cf-1131-41e8-a50c-d0fbd404a481",
   "metadata": {},
   "outputs": [
    {
     "name": "stdout",
     "output_type": "stream",
     "text": [
      "Welcome to Assignment-1\n"
     ]
    }
   ],
   "source": [
    "print(\"Welcome to Assignment-1\")"
   ]
  },
  {
   "cell_type": "code",
   "execution_count": 4,
   "id": "c82d86b9-f645-4805-af6e-589dda6b40c3",
   "metadata": {},
   "outputs": [
    {
     "name": "stdout",
     "output_type": "stream",
     "text": [
      "Num1= 10\n",
      "Num2= 30\n",
      "Add= 40\n"
     ]
    }
   ],
   "source": [
    "num1=10\n",
    "num2=30\n",
    "Add=num1+num2\n",
    "print(\"Num1=\",num1)\n",
    "print(\"Num2=\",num2)\n",
    "print(\"Add=\",Add)\n"
   ]
  },
  {
   "cell_type": "code",
   "execution_count": 16,
   "id": "7eac0171-d12f-4503-a8d2-6f73450e7601",
   "metadata": {},
   "outputs": [
    {
     "name": "stdin",
     "output_type": "stream",
     "text": [
      "Enter the BMI Index: 34\n"
     ]
    },
    {
     "name": "stdout",
     "output_type": "stream",
     "text": [
      "Very Overweight\n"
     ]
    }
   ],
   "source": [
    "bmi=float(input(\"Enter the BMI Index:\"))\n",
    "if(bmi<18.5):\n",
    "    print(\"Underweight\")\n",
    "elif(18.5<bmi<=24.9):\n",
    "    print(\"Normal\")\n",
    "elif(25<bmi<=29.9):\n",
    "    print(\"Overweight\")\n",
    "elif(30<bmi<=34.9):\n",
    "    print(\"Very Overweight\")\n",
    "else:\n",
    "    print(\"Obese\")\n",
    "    \n"
   ]
  },
  {
   "cell_type": "code",
   "execution_count": null,
   "id": "5becbbbe-ce38-4e0b-80aa-1fc7f68fc7b8",
   "metadata": {},
   "outputs": [],
   "source": []
  }
 ],
 "metadata": {
  "kernelspec": {
   "display_name": "Python 3 (ipykernel)",
   "language": "python",
   "name": "python3"
  },
  "language_info": {
   "codemirror_mode": {
    "name": "ipython",
    "version": 3
   },
   "file_extension": ".py",
   "mimetype": "text/x-python",
   "name": "python",
   "nbconvert_exporter": "python",
   "pygments_lexer": "ipython3",
   "version": "3.12.7"
  }
 },
 "nbformat": 4,
 "nbformat_minor": 5
}
