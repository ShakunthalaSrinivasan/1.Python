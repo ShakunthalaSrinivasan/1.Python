{
 "cells": [
  {
   "cell_type": "code",
   "execution_count": 8,
   "id": "858b7201-06bf-4a9f-be78-0789aa9e4b1d",
   "metadata": {},
   "outputs": [],
   "source": [
    "list=['Machine Learning','Neural Networks','Vision','Robotics','Speech Processing','Natural Language Processing']"
   ]
  },
  {
   "cell_type": "code",
   "execution_count": 9,
   "id": "265c7e47-154b-4cdc-aa0e-110c946892f8",
   "metadata": {},
   "outputs": [],
   "source": [
    "class SubfieldsinAI():\n",
    "    def SubfieldsinAI(subfields):\n",
    "        print(\"Sub-fields in AI are:\",*subfields,sep=\"\\n\")\n",
    "        return \n"
   ]
  },
  {
   "cell_type": "code",
   "execution_count": 10,
   "id": "4ff84e67-0f49-478e-b79e-91ea71da304b",
   "metadata": {},
   "outputs": [
    {
     "name": "stdout",
     "output_type": "stream",
     "text": [
      "Sub-fields in AI are:\n",
      "Machine Learning\n",
      "Neural Networks\n",
      "Vision\n",
      "Robotics\n",
      "Speech Processing\n",
      "Natural Language Processing\n"
     ]
    }
   ],
   "source": [
    "SubfieldsinAI.SubfieldsinAI(list)"
   ]
  },
  {
   "cell_type": "code",
   "execution_count": 13,
   "id": "e6703dce-a8b1-41ee-a00f-c57b7ea9e617",
   "metadata": {},
   "outputs": [],
   "source": [
    "class OddEven():\n",
    "    def oddeven():\n",
    "        number=int(input(\"Enter a number:\"))\n",
    "        if (number%2==0):\n",
    "            print(number,\"is a even number\")\n",
    "        else:\n",
    "            print(number,\"is a odd number\")\n",
    "        return "
   ]
  },
  {
   "cell_type": "code",
   "execution_count": 14,
   "id": "35a492e9-c527-4eb2-85a8-46cd4fff3d7e",
   "metadata": {},
   "outputs": [
    {
     "name": "stdin",
     "output_type": "stream",
     "text": [
      "Enter a number: 52452\n"
     ]
    },
    {
     "name": "stdout",
     "output_type": "stream",
     "text": [
      "52452 is a even number\n"
     ]
    }
   ],
   "source": [
    "OddEven.oddeven()"
   ]
  },
  {
   "cell_type": "code",
   "execution_count": 15,
   "id": "33d67460-5dd1-4108-acbd-8c61af299d9a",
   "metadata": {},
   "outputs": [],
   "source": [
    "class eligibilityformarriage():\n",
    "    def eligible():\n",
    "        gender=input(\"Your Gender:\")\n",
    "        age=int(input(\"Your age:\"))\n",
    "        if(gender=='Male' and age>=21):\n",
    "            print(\"ELIGIBLE\")\n",
    "        elif(gender=='Female' and age>=18):\n",
    "            print(\"ELIGIBLE\")\n",
    "        else:\n",
    "            print(\"NOT ELIGIBLE\")\n",
    "        return"
   ]
  },
  {
   "cell_type": "code",
   "execution_count": 16,
   "id": "bf97abe3-aac5-4d59-99a3-e4f8ec2b3fb1",
   "metadata": {},
   "outputs": [
    {
     "name": "stdin",
     "output_type": "stream",
     "text": [
      "Your Gender: Male\n",
      "Your age: 20\n"
     ]
    },
    {
     "name": "stdout",
     "output_type": "stream",
     "text": [
      "NOT ELIGIBLE\n"
     ]
    }
   ],
   "source": [
    "eligibilityformarriage.eligible()"
   ]
  },
  {
   "cell_type": "code",
   "execution_count": 17,
   "id": "9864db09-8717-4b29-a513-8b08b2578458",
   "metadata": {},
   "outputs": [],
   "source": [
    "class findpercent():\n",
    "    def percentage():\n",
    "        s1=float(input(\"Subject1=\"))\n",
    "        s2=float(input(\"Subject2=\"))\n",
    "        s3=float(input(\"Subject3=\"))\n",
    "        s4=float(input(\"Subject4=\"))\n",
    "        s5=float(input(\"Subject5=\"))\n",
    "        Total=s1+s2+s3+s4+s5\n",
    "        percentage=(Total/500)*100\n",
    "        print(\"Total:\",Total)\n",
    "        print(\"Percentage:\",percentage)\n",
    "        return"
   ]
  },
  {
   "cell_type": "code",
   "execution_count": 19,
   "id": "e8552764-1d0b-44c0-b082-2c43434006bf",
   "metadata": {},
   "outputs": [
    {
     "name": "stdin",
     "output_type": "stream",
     "text": [
      "Subject1= 98\n",
      "Subject2= 87\n",
      "Subject3= 95\n",
      "Subject4= 95\n",
      "Subject5= 93\n"
     ]
    },
    {
     "name": "stdout",
     "output_type": "stream",
     "text": [
      "Total: 468.0\n",
      "Percentage: 93.60000000000001\n"
     ]
    }
   ],
   "source": [
    "findpercent.percentage()"
   ]
  },
  {
   "cell_type": "code",
   "execution_count": 20,
   "id": "00c38eb7-7b9d-4eff-9f7b-0fb6b0235c00",
   "metadata": {},
   "outputs": [],
   "source": [
    "class triangle():\n",
    "    def triangle():\n",
    "        H=int(input(\"Height:\"))\n",
    "        B=int(input(\"Breadth:\"))\n",
    "        print(\"Area Formula:(Height*Breadth)/2\")\n",
    "        print(\"Area of Triangle:\",(H*B)/2)\n",
    "        h1=int(input(\"Height1:\"))\n",
    "        h2=int(input(\"Height2:\"))\n",
    "        b=int(input(\"Breadth:\"))\n",
    "        print(\"Perimeter Formula=Height1+Height2+Breadth\")\n",
    "        print(\"Perimeter of Triangle:\",(h1+h2+b))\n",
    "        return"
   ]
  },
  {
   "cell_type": "code",
   "execution_count": 21,
   "id": "83ca32a0-2f5a-4abc-84f3-4c3eabf40f28",
   "metadata": {},
   "outputs": [
    {
     "name": "stdin",
     "output_type": "stream",
     "text": [
      "Height: 32\n",
      "Breadth: 34\n"
     ]
    },
    {
     "name": "stdout",
     "output_type": "stream",
     "text": [
      "Area Formula:(Height*Breadth)/2\n",
      "Area of Triangle: 544.0\n"
     ]
    },
    {
     "name": "stdin",
     "output_type": "stream",
     "text": [
      "Height1: 2\n",
      "Height2: 4\n",
      "Breadth: 4\n"
     ]
    },
    {
     "name": "stdout",
     "output_type": "stream",
     "text": [
      "Perimeter Formula=Height1+Height2+Breadth\n",
      "Perimeter of Triangle: 10\n"
     ]
    }
   ],
   "source": [
    "triangle.triangle()"
   ]
  },
  {
   "cell_type": "code",
   "execution_count": null,
   "id": "4063f5bb-eac6-438b-a21f-70041e749e51",
   "metadata": {},
   "outputs": [],
   "source": []
  }
 ],
 "metadata": {
  "kernelspec": {
   "display_name": "Python 3 (ipykernel)",
   "language": "python",
   "name": "python3"
  },
  "language_info": {
   "codemirror_mode": {
    "name": "ipython",
    "version": 3
   },
   "file_extension": ".py",
   "mimetype": "text/x-python",
   "name": "python",
   "nbconvert_exporter": "python",
   "pygments_lexer": "ipython3",
   "version": "3.12.7"
  }
 },
 "nbformat": 4,
 "nbformat_minor": 5
}
