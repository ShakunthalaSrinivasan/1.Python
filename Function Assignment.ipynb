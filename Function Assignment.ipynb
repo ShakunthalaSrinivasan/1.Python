{
 "cells": [
  {
   "cell_type": "code",
   "execution_count": 36,
   "id": "70725703-15a4-4a16-80d8-50be99b90245",
   "metadata": {},
   "outputs": [],
   "source": [
    "list=['Machine Learning','Neural Networks','Vision','Robotics','Speech Processing','Natural Language Processing']\n"
   ]
  },
  {
   "cell_type": "code",
   "execution_count": 37,
   "id": "d3e229ae-efda-4d74-be89-8021fd7f0095",
   "metadata": {},
   "outputs": [],
   "source": [
    "def SubfieldsinAI(subfields):\n",
    "    print(\"Sub-fields in AI are:\",*subfields,sep=\"\\n\")\n",
    "    return subfields"
   ]
  },
  {
   "cell_type": "code",
   "execution_count": 38,
   "id": "8deb26dc-24ea-425a-a565-3ef1960b2056",
   "metadata": {},
   "outputs": [
    {
     "name": "stdout",
     "output_type": "stream",
     "text": [
      "Sub-fields in AI are:\n",
      "Machine Learning\n",
      "Neural Networks\n",
      "Vision\n",
      "Robotics\n",
      "Speech Processing\n",
      "Natural Language Processing\n"
     ]
    }
   ],
   "source": [
    "x=SubfieldsinAI(list)"
   ]
  },
  {
   "cell_type": "code",
   "execution_count": 45,
   "id": "f4199623-9487-4a46-89af-3b60a049a6c2",
   "metadata": {},
   "outputs": [],
   "source": [
    "def oddeven():\n",
    "    number=int(input(\"Enter a number:\"))\n",
    "    if (number%2==0):\n",
    "        print(number,\"is a even number\")\n",
    "    else:\n",
    "        print(number,\"is a odd number\")\n",
    "    return number"
   ]
  },
  {
   "cell_type": "code",
   "execution_count": 46,
   "id": "f22b6417-69e0-40a2-b1db-af0eacad984f",
   "metadata": {},
   "outputs": [
    {
     "name": "stdin",
     "output_type": "stream",
     "text": [
      "Enter a number: 52452\n"
     ]
    },
    {
     "name": "stdout",
     "output_type": "stream",
     "text": [
      "52452 is a even number\n"
     ]
    },
    {
     "data": {
      "text/plain": [
       "52452"
      ]
     },
     "execution_count": 46,
     "metadata": {},
     "output_type": "execute_result"
    }
   ],
   "source": [
    "oddeven()\n",
    "\n"
   ]
  },
  {
   "cell_type": "code",
   "execution_count": 57,
   "id": "4e21749b-5266-4cff-bdfa-916a189dda2d",
   "metadata": {},
   "outputs": [],
   "source": [
    "def eligibilityformarriage():\n",
    "    gender=input(\"Your Gender:\")\n",
    "    age=int(input(\"Your age:\"))\n",
    "    if(gender=='Male' and age>=21):\n",
    "        print(\"ELIGIBLE\")\n",
    "    elif(gender=='Female' and age>=18):\n",
    "        print(\"ELIGIBLE\")\n",
    "    else:\n",
    "        print(\"NOT ELIGIBLE\")\n",
    "    return"
   ]
  },
  {
   "cell_type": "code",
   "execution_count": 59,
   "id": "16073714-faf4-4202-ba39-94efa1b13a6f",
   "metadata": {},
   "outputs": [
    {
     "name": "stdin",
     "output_type": "stream",
     "text": [
      "Your Gender: Male\n",
      "Your age: 20\n"
     ]
    },
    {
     "name": "stdout",
     "output_type": "stream",
     "text": [
      "NOT ELIGIBLE\n"
     ]
    }
   ],
   "source": [
    "eligibilityformarriage()"
   ]
  },
  {
   "cell_type": "code",
   "execution_count": 64,
   "id": "29fb6e41-2293-4982-a685-0500e4232334",
   "metadata": {},
   "outputs": [],
   "source": [
    "def findpercentage():\n",
    "    s1=float(input(\"Subject1=\"))\n",
    "    s2=float(input(\"Subject2=\"))\n",
    "    s3=float(input(\"Subject3=\"))\n",
    "    s4=float(input(\"Subject4=\"))\n",
    "    s5=float(input(\"Subject5=\"))\n",
    "    Total=s1+s2+s3+s4+s5\n",
    "    percentage=(Total/500)*100\n",
    "    print(\"Total:\",Total)\n",
    "    print(\"Percentage:\",percentage)\n",
    "    return"
   ]
  },
  {
   "cell_type": "code",
   "execution_count": 65,
   "id": "e52877d9-3c33-4855-92ea-e3a126766b51",
   "metadata": {},
   "outputs": [
    {
     "name": "stdin",
     "output_type": "stream",
     "text": [
      "Subject1= 98\n",
      "Subject2= 87\n",
      "Subject3= 95\n",
      "Subject4= 95\n",
      "Subject5= 93\n"
     ]
    },
    {
     "name": "stdout",
     "output_type": "stream",
     "text": [
      "Total: 468.0\n",
      "Percentage: 93.60000000000001\n"
     ]
    }
   ],
   "source": [
    "findpercentage()"
   ]
  },
  {
   "cell_type": "code",
   "execution_count": 66,
   "id": "46f8f184-25fa-4748-9c55-202bac5f33da",
   "metadata": {},
   "outputs": [],
   "source": [
    "def triangle():\n",
    "    H=int(input(\"Height:\"))\n",
    "    B=int(input(\"Breadth:\"))\n",
    "    print(\"Area Formula:(Height*Breadth)/2\")\n",
    "    print(\"Area of Triangle:\",(H*B)/2)\n",
    "    h1=int(input(\"Height1:\"))\n",
    "    h2=int(input(\"Height2:\"))\n",
    "    b=int(input(\"Breadth:\"))\n",
    "    print(\"Perimeter Formula=Height1+Height2+Breadth\")\n",
    "    print(\"Perimeter of Triangle:\",(h1+h2+b))\n",
    "    return\n",
    "    \n",
    "          \n"
   ]
  },
  {
   "cell_type": "code",
   "execution_count": 67,
   "id": "9a867aad-584f-4523-af60-dbf20494a393",
   "metadata": {},
   "outputs": [
    {
     "name": "stdin",
     "output_type": "stream",
     "text": [
      "Height: 32\n",
      "Breadth: 34\n"
     ]
    },
    {
     "name": "stdout",
     "output_type": "stream",
     "text": [
      "Area Formula:(Height*Breadth)/2\n",
      "Area of Triangle: 544.0\n"
     ]
    },
    {
     "name": "stdin",
     "output_type": "stream",
     "text": [
      "Height1: 2\n",
      "Height2: 4\n",
      "Breadth: 4\n"
     ]
    },
    {
     "name": "stdout",
     "output_type": "stream",
     "text": [
      "Perimeter Formula=Height1+Height2+Breadth\n",
      "Perimeter of Triangle: 10\n"
     ]
    }
   ],
   "source": [
    "triangle()"
   ]
  },
  {
   "cell_type": "code",
   "execution_count": null,
   "id": "82f8f925-cf1e-49e4-b3f4-398f15a966db",
   "metadata": {},
   "outputs": [],
   "source": []
  }
 ],
 "metadata": {
  "kernelspec": {
   "display_name": "Python 3 (ipykernel)",
   "language": "python",
   "name": "python3"
  },
  "language_info": {
   "codemirror_mode": {
    "name": "ipython",
    "version": 3
   },
   "file_extension": ".py",
   "mimetype": "text/x-python",
   "name": "python",
   "nbconvert_exporter": "python",
   "pygments_lexer": "ipython3",
   "version": "3.12.7"
  }
 },
 "nbformat": 4,
 "nbformat_minor": 5
}
